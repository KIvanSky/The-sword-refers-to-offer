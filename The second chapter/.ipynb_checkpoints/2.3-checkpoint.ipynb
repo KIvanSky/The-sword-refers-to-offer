{
 "cells": [
  {
   "cell_type": "markdown",
   "metadata": {},
   "source": [
    "# 面试题3  "
   ]
  },
  {
   "cell_type": "markdown",
   "metadata": {},
   "source": [
    "## 数组中重复的数字"
   ]
  },
  {
   "cell_type": "markdown",
   "metadata": {},
   "source": [
    "### **问题一**：\n",
    "在一个长度为 n 的数组里的所有数字都在 0 到 n-1 的范围内。数组中某些数字是重复的，但不知道有几个数字是重复的，也不知道每个数字重复几次。请找出数组中任意一个重复的数字。"
   ]
  },
  {
   "cell_type": "markdown",
   "metadata": {},
   "source": [
    "Input:\n",
    "{2, 3, 1, 0, 2, 3, 5}\n",
    "\n",
    "Output:\n",
    "2或3"
   ]
  },
  {
   "cell_type": "code",
   "execution_count": 4,
   "metadata": {},
   "outputs": [],
   "source": [
    "def inputShift(str_data):\n",
    "    if str_data == '':\n",
    "        return [] \n",
    "    else:\n",
    "        list_data = str_data.split(' ')\n",
    "        int_data = [int(one) for one in list_data]\n",
    "        return int_data"
   ]
  },
  {
   "cell_type": "markdown",
   "metadata": {},
   "source": [
    "#### 解法一：排序法"
   ]
  },
  {
   "cell_type": "markdown",
   "metadata": {},
   "source": [
    "**解法思路**：把输入的数组排序，再从头到尾扫描排序后的数组即可\n",
    "\n",
    "时间复杂度O(nlogn),空间复杂度O()"
   ]
  },
  {
   "cell_type": "code",
   "execution_count": null,
   "metadata": {},
   "outputs": [],
   "source": [
    "input_array = inputShift(input())"
   ]
  },
  {
   "cell_type": "code",
   "execution_count": null,
   "metadata": {},
   "outputs": [],
   "source": [
    "if len(input_array) == 0:\n",
    "    print(\"Error:The input is empty.\")\n",
    "else:\n",
    "    pass"
   ]
  },
  {
   "cell_type": "markdown",
   "metadata": {},
   "source": [
    "#### 解法二：哈希表法"
   ]
  },
  {
   "cell_type": "markdown",
   "metadata": {},
   "source": [
    "**解法思路**：\n",
    "\n",
    "时间复杂度O(n),空间复杂度O(n)"
   ]
  },
  {
   "cell_type": "code",
   "execution_count": null,
   "metadata": {
    "scrolled": true
   },
   "outputs": [],
   "source": [
    "input_array = inputShift(input())"
   ]
  },
  {
   "cell_type": "code",
   "execution_count": null,
   "metadata": {},
   "outputs": [],
   "source": [
    "hash_list = []"
   ]
  },
  {
   "cell_type": "code",
   "execution_count": null,
   "metadata": {},
   "outputs": [],
   "source": [
    "if input_array == None or len(input_array) <= 0:\n",
    "    print(\"Error:The input is empty.\")\n",
    "else:\n",
    "    for one in input_array:\n",
    "        if one in hash_list:\n",
    "            print(one)\n",
    "        else:\n",
    "            hash_list.append(one)\n",
    "            if len(input_array) == len(hash_list):\n",
    "                print('There are no duplicate Numbers')"
   ]
  },
  {
   "cell_type": "markdown",
   "metadata": {},
   "source": [
    "#### 解法三："
   ]
  },
  {
   "cell_type": "markdown",
   "metadata": {},
   "source": [
    "**解法思路**：查看下标i位置的数值是否为i，如果为i，则移动到下标i+1。否则，查看下标i位置的数值m是否等于下标m位置的数值，若相等，则输出重复数值m，若不相等，则将下标i与下标m位置上的数值互换。\n",
    "\n",
    "时间复杂度O(n),空间复杂度O(1)"
   ]
  },
  {
   "cell_type": "code",
   "execution_count": null,
   "metadata": {
    "scrolled": true
   },
   "outputs": [],
   "source": [
    "input_array = inputShift(input())"
   ]
  },
  {
   "cell_type": "code",
   "execution_count": null,
   "metadata": {},
   "outputs": [],
   "source": [
    "Flag = True\n",
    "if input_array == None or len(input_array) <= 0:\n",
    "    print(\"Error:The input is empty.\")\n",
    "\n",
    "for index in range(len(input_array)):\n",
    "    if input_array[index] < 0 or input_array[index] > len(input_array)-1:\n",
    "        print(\"Error:The input is illegal\")\n",
    "        Flag = False\n",
    "        break\n",
    "\n",
    "    \n",
    "for index in range(len(input_array)):\n",
    "    if Flag == False:\n",
    "        break\n",
    "    else:\n",
    "        while input_array[index] != index:\n",
    "            if input_array[index] == input_array[input_array[index]]:\n",
    "                print(input_array[index])\n",
    "                Flag = False\n",
    "                break\n",
    "            else:\n",
    "                temp = input_array[index]\n",
    "                input_array[index] = input_array[temp]\n",
    "       \n",
    "                input_array[temp] = temp\n",
    "               \n",
    "                    \n",
    "if index == len(input_array)-1:\n",
    "    print('There are no duplicate Numbers')"
   ]
  },
  {
   "cell_type": "markdown",
   "metadata": {},
   "source": [
    "### **问题二**\n",
    "在一个长度为 n+1 的数组里的所有数字都在 1 到 n 的范围内，数组中至少有一个数字是重复的。请找出数组中任意一个重复的数字，但不能修改输入的数组。"
   ]
  },
  {
   "cell_type": "markdown",
   "metadata": {},
   "source": [
    "Input:\n",
    "{2, 3, 5, 4, 3, 2, 6, 7}\n",
    "\n",
    "Output:\n",
    "2或3"
   ]
  },
  {
   "cell_type": "markdown",
   "metadata": {},
   "source": [
    "**解题思路**：将数字分为1~n/2和n/2~n两组，若数字1~n/2在数组中出现的次数大于n/2，则其中必有重复，对该范围再进行二分。反之则n/2~n中有重复，对其进行二分，直到找出重复。"
   ]
  },
  {
   "cell_type": "code",
   "execution_count": 14,
   "metadata": {
    "scrolled": true
   },
   "outputs": [
    {
     "name": "stdout",
     "output_type": "stream",
     "text": [
      "2 3 5 4 3 2 6 7\n"
     ]
    }
   ],
   "source": [
    "input_array = inputShift(input())"
   ]
  },
  {
   "cell_type": "code",
   "execution_count": 15,
   "metadata": {},
   "outputs": [],
   "source": [
    "def countNum(input_array, start, end):\n",
    "    count = 0\n",
    "    for one in input_array:\n",
    "        if one >= start and one <= end:\n",
    "            count += 1\n",
    "    return count"
   ]
  },
  {
   "cell_type": "code",
   "execution_count": 28,
   "metadata": {},
   "outputs": [],
   "source": [
    "def findRepeat(input_array):\n",
    "    if input_array == None or len(input_array) <= 0:\n",
    "        print(\"Error:The input is empty.\")\n",
    "    start = 1\n",
    "    end = len(input_array) - 1\n",
    "    while end >= start:\n",
    "        mid = (end - start)// 2 + start\n",
    "        count = countNum(input_array, start, mid)\n",
    "        if end == start:\n",
    "            if count > 1:\n",
    "                print(start)\n",
    "                return True\n",
    "            else:\n",
    "                break\n",
    "        if count > mid -start +1:\n",
    "            end = mid\n",
    "  \n",
    "        else:\n",
    "            start = mid + 1\n",
    "           \n",
    "    return False\n"
   ]
  },
  {
   "cell_type": "code",
   "execution_count": 29,
   "metadata": {},
   "outputs": [
    {
     "name": "stdout",
     "output_type": "stream",
     "text": [
      "3\n"
     ]
    },
    {
     "data": {
      "text/plain": [
       "True"
      ]
     },
     "execution_count": 29,
     "metadata": {},
     "output_type": "execute_result"
    }
   ],
   "source": [
    "findRepeat(input_array)"
   ]
  },
  {
   "cell_type": "markdown",
   "metadata": {},
   "source": [
    "# 面试题4"
   ]
  },
  {
   "cell_type": "markdown",
   "metadata": {},
   "source": [
    "## 二维数组中的查找"
   ]
  },
  {
   "cell_type": "markdown",
   "metadata": {},
   "source": [
    "**问题**：给定一个二维数组，其每一行从左到右递增排序，从上到下也是递增排序。给定一个数，判断这个数是否在该二维数组中。"
   ]
  },
  {
   "cell_type": "markdown",
   "metadata": {},
   "source": [
    "Consider the following matrix:\n",
    "\n",
    "[\n",
    "  [1,   4,  7, 11, 15],\n",
    "  [2,   5,  8, 12, 19],\n",
    "  [3,   6,  9, 16, 22],\n",
    "  [10, 13, 14, 17, 24],\n",
    "  [18, 21, 23, 26, 30]\n",
    "]\n",
    "\n",
    "Given target = 5, return true.\n",
    "\n",
    "Given target = 20, return false."
   ]
  },
  {
   "cell_type": "markdown",
   "metadata": {},
   "source": [
    "**解法思路**:观察矩阵，选取矩阵右上角值作为观测值，若给定值小于观测值，则排除最后一列，否则查看最后一列。在比较右上角左边的值，若小于该值，则排除倒数第二列，若大于该值，则排除该行。"
   ]
  },
  {
   "cell_type": "code",
   "execution_count": null,
   "metadata": {},
   "outputs": [],
   "source": [
    "import numpy as np"
   ]
  },
  {
   "cell_type": "code",
   "execution_count": null,
   "metadata": {},
   "outputs": [],
   "source": [
    "input_mat = np.array([[1, 4, 7, 11, 15], [2, 5, 8, 12, 19], [3, 6, 9, 16, 22], [10, 13, 14, 17, 24], [18, 21, 23, 26, 30]])"
   ]
  },
  {
   "cell_type": "code",
   "execution_count": null,
   "metadata": {},
   "outputs": [],
   "source": [
    "imput_mun = 9"
   ]
  },
  {
   "cell_type": "code",
   "execution_count": null,
   "metadata": {},
   "outputs": [],
   "source": [
    "max_length, max_wide = input_mat.shape"
   ]
  },
  {
   "cell_type": "code",
   "execution_count": null,
   "metadata": {},
   "outputs": [],
   "source": [
    "input_mat"
   ]
  },
  {
   "cell_type": "code",
   "execution_count": null,
   "metadata": {},
   "outputs": [],
   "source": [
    "def FindNum(input_mat,imput_mun):\n",
    "    if (input_mat == None).any() or (len(input_mat) == 0) or (len(input_mat[0])) == 0:\n",
    "        return False\n",
    "\n",
    "    length = max_length - 1\n",
    "    wide = 0\n",
    "    while length >= 0 and wide <= max_wide - 1:\n",
    "        if imput_mun < input_mat[wide][length]:\n",
    "            length -= 1\n",
    "        elif imput_mun > input_mat[wide][length]:\n",
    "            wide += 1\n",
    "        else:\n",
    "            return True\n",
    "    return False "
   ]
  },
  {
   "cell_type": "code",
   "execution_count": null,
   "metadata": {},
   "outputs": [],
   "source": [
    "FindNum(input_mat,imput_mun)"
   ]
  },
  {
   "cell_type": "markdown",
   "metadata": {},
   "source": [
    "# 面试题5"
   ]
  },
  {
   "cell_type": "markdown",
   "metadata": {},
   "source": [
    "## 替换空格"
   ]
  },
  {
   "cell_type": "markdown",
   "metadata": {},
   "source": [
    "**问题**：将一个字符串中的空格替换成 \"%20\"。"
   ]
  },
  {
   "cell_type": "markdown",
   "metadata": {},
   "source": [
    "Input:\n",
    "\"A B\"\n",
    "\n",
    "Output:\n",
    "\"A%20B\""
   ]
  },
  {
   "cell_type": "code",
   "execution_count": null,
   "metadata": {},
   "outputs": [],
   "source": []
  },
  {
   "cell_type": "markdown",
   "metadata": {},
   "source": [
    "# 面试题6"
   ]
  },
  {
   "cell_type": "markdown",
   "metadata": {},
   "source": [
    "## 从尾到头打印链表"
   ]
  },
  {
   "cell_type": "markdown",
   "metadata": {},
   "source": [
    "**问题**：从尾到头反过来打印出每个结点的值"
   ]
  },
  {
   "cell_type": "code",
   "execution_count": null,
   "metadata": {},
   "outputs": [],
   "source": []
  },
  {
   "cell_type": "code",
   "execution_count": null,
   "metadata": {},
   "outputs": [],
   "source": []
  },
  {
   "cell_type": "code",
   "execution_count": null,
   "metadata": {},
   "outputs": [],
   "source": []
  }
 ],
 "metadata": {
  "kernelspec": {
   "display_name": "Python 3",
   "language": "python",
   "name": "python3"
  },
  "language_info": {
   "codemirror_mode": {
    "name": "ipython",
    "version": 3
   },
   "file_extension": ".py",
   "mimetype": "text/x-python",
   "name": "python",
   "nbconvert_exporter": "python",
   "pygments_lexer": "ipython3",
   "version": "3.6.8"
  },
  "toc": {
   "base_numbering": 1,
   "nav_menu": {},
   "number_sections": true,
   "sideBar": true,
   "skip_h1_title": false,
   "title_cell": "Table of Contents",
   "title_sidebar": "Contents",
   "toc_cell": false,
   "toc_position": {},
   "toc_section_display": true,
   "toc_window_display": false
  }
 },
 "nbformat": 4,
 "nbformat_minor": 2
}
